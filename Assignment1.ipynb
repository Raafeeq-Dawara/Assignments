{
 "cells": [
  {
   "cell_type": "code",
   "execution_count": 1,
   "metadata": {},
   "outputs": [
    {
     "name": "stdout",
     "output_type": "stream",
     "text": [
      "This is my 1st Program in Python. I am thoroughly enjoying and learning from the INeuron Classes.\n"
     ]
    }
   ],
   "source": [
    "#Question 1 (Task 1)\n",
    "b = \"This is my 1st Program in Python. I am thoroughly enjoying and learning from the INeuron Classes.\"\n",
    "print(b)"
   ]
  },
  {
   "cell_type": "code",
   "execution_count": 1,
   "metadata": {},
   "outputs": [
    {
     "name": "stdout",
     "output_type": "stream",
     "text": [
      "[2002, 2009, 2016, 2023, 2037, 2044, 2051, 2058, 2072, 2079, 2086, 2093, 2107, 2114, 2121, 2128, 2142, 2149, 2156, 2163, 2177, 2184, 2191, 2198, 2212, 2219, 2226, 2233, 2247, 2254, 2261, 2268, 2282, 2289, 2296, 2303, 2317, 2324, 2331, 2338, 2352, 2359, 2366, 2373, 2387, 2394, 2401, 2408, 2422, 2429, 2436, 2443, 2457, 2464, 2471, 2478, 2492, 2499, 2506, 2513, 2527, 2534, 2541, 2548, 2562, 2569, 2576, 2583, 2597, 2604, 2611, 2618, 2632, 2639, 2646, 2653, 2667, 2674, 2681, 2688, 2702, 2709, 2716, 2723, 2737, 2744, 2751, 2758, 2772, 2779, 2786, 2793, 2807, 2814, 2821, 2828, 2842, 2849, 2856, 2863, 2877, 2884, 2891, 2898, 2912, 2919, 2926, 2933, 2947, 2954, 2961, 2968, 2982, 2989, 2996, 3003, 3017, 3024, 3031, 3038, 3052, 3059, 3066, 3073, 3087, 3094, 3101, 3108, 3122, 3129, 3136, 3143, 3157, 3164, 3171, 3178, 3192, 3199] "
     ]
    }
   ],
   "source": [
    "# Question 2 (Task 1)\n",
    "d = range(2000,3201)\n",
    "m = []\n",
    "for i in d:\n",
    "    if (i%7 == 0) :\n",
    "        if (i%5 !=0):\n",
    "            m.append(i)\n",
    "print(m,end = \" \")"
   ]
  },
  {
   "cell_type": "code",
   "execution_count": 9,
   "metadata": {},
   "outputs": [
    {
     "name": "stdout",
     "output_type": "stream",
     "text": [
      "Enter your first name  Raafeeq\n",
      "Enter your last name Dawara\n",
      "Dawara  Raafeeq\n"
     ]
    }
   ],
   "source": [
    "# Question 3 (Task1)\n",
    "a = input(\"Enter your first name  \")\n",
    "b = input(\"Enter your last name \")\n",
    "print(b,\"\",a)"
   ]
  },
  {
   "cell_type": "code",
   "execution_count": 13,
   "metadata": {},
   "outputs": [
    {
     "name": "stdout",
     "output_type": "stream",
     "text": [
      "V =  905.142857142857\n"
     ]
    }
   ],
   "source": [
    "# Question 4 (Task1)\n",
    "# Notations: V=Volume ; R=Radius ; D=Diameter ;π=Pi=22/7 \n",
    "# R=D/2 (By Definition)\n",
    "D = 12\n",
    "R = D/2\n",
    "C = R**3\n",
    "π = 22/7\n",
    "V = 4/3*π*C\n",
    "print(\"V = \",V)\n"
   ]
  },
  {
   "cell_type": "code",
   "execution_count": 19,
   "metadata": {},
   "outputs": [
    {
     "name": "stdout",
     "output_type": "stream",
     "text": [
      "b =  ['1', ' 2 ', ' 3', ' 4', ' 5']\n"
     ]
    }
   ],
   "source": [
    "# Question 1 (Task2)\n",
    "b = \"1, 2 , 3, 4, 5\"\n",
    "print(\"b = \",b.split(\",\"))"
   ]
  },
  {
   "cell_type": "code",
   "execution_count": 9,
   "metadata": {},
   "outputs": [
    {
     "name": "stdout",
     "output_type": "stream",
     "text": [
      "* \r\n",
      "* * \r\n",
      "* * * \r\n",
      "* * * * \r\n",
      "* * * * * \r\n",
      "* * * * \r\n",
      "* * * \r\n",
      "* * \r\n",
      "* \r\n",
      "\r\n"
     ]
    }
   ],
   "source": [
    "#Question 2 (Task 2) (Solution1) #Nested For Loop\n",
    "for i in range(0, 5):\n",
    "    for j in range(0, i + 1):\n",
    "        print(\"*\",end=' ')\n",
    "    print(\"\\r\")\n",
    "    \n",
    "for i in range(5, 0, -1):\n",
    "    for j in range(0, i - 1):\n",
    "        print(\"*\", end=' ')\n",
    "    print(\"\\r\")\n",
    "    "
   ]
  },
  {
   "cell_type": "code",
   "execution_count": 10,
   "metadata": {},
   "outputs": [
    {
     "name": "stdout",
     "output_type": "stream",
     "text": [
      "* \n",
      "* * \n",
      "* * * \n",
      "* * * * \n",
      "* * * * * \n",
      "* * * * \n",
      "* * * \n",
      "* * \n",
      "* \n"
     ]
    }
   ],
   "source": [
    "# Question 2 (Task2) (Solution2)\n",
    "b = range(1,6)\n",
    "for i in b:\n",
    "    print('* '*i)\n",
    "c = range(4,0,-1)\n",
    "for j in c:\n",
    "    print('* '*j)"
   ]
  },
  {
   "cell_type": "code",
   "execution_count": 89,
   "metadata": {},
   "outputs": [
    {
     "name": "stdout",
     "output_type": "stream",
     "text": [
      "1st word please Acad\n",
      "2nd word please Gild\n"
     ]
    },
    {
     "data": {
      "text/plain": [
       "'dliGdacA'"
      ]
     },
     "execution_count": 89,
     "metadata": {},
     "output_type": "execute_result"
    }
   ],
   "source": [
    "#Question 3 (Task 2)\n",
    "X = input(\"1st word please \")\n",
    "Y = input(\"2nd word please \")\n",
    "Y[::-1]+X[::-1]"
   ]
  },
  {
   "cell_type": "code",
   "execution_count": 79,
   "metadata": {},
   "outputs": [
    {
     "name": "stdout",
     "output_type": "stream",
     "text": [
      "WE, THE PEOPLE OF INDIA,\n",
      "      having solemnly resolved to constitute India into a SOVEREIGN, !\n",
      "            SOCIALIST, SECULAR, DEMOCRATIC REPUBLIC\n",
      "              and to secure to all its citizens\n"
     ]
    }
   ],
   "source": [
    "#Question 4 (Task 2) (Solution 1)\n",
    "a = \"WE, THE PEOPLE OF INDIA,\"\n",
    "b = \"having solemnly resolved to constitute India into a SOVEREIGN, !\"\n",
    "c = \"SOCIALIST, SECULAR, DEMOCRATIC REPUBLIC\"\n",
    "d = \"and to secure to all its citizens\"\n",
    "print(a)\n",
    "print(\"      \"+ b)\n",
    "print(\"            \"+ c)\n",
    "print(\"              \"+ d)"
   ]
  },
  {
   "cell_type": "code",
   "execution_count": 87,
   "metadata": {},
   "outputs": [
    {
     "name": "stdout",
     "output_type": "stream",
     "text": [
      "WE, THE PEOPLE OF INDIA,\n",
      "\t having solemnly resolved to constitute India into a SOVEREIGN, !\n",
      "\t\t SOCIALIST, SECULAR, DEMOCRATIC REPUBLIC\n",
      "\t\t\t and to secure to all its citizens\n"
     ]
    }
   ],
   "source": [
    "#Question 4 (Task 2) (Solution 2)\n",
    "a = \"WE, THE PEOPLE OF INDIA,\"\n",
    "b = \"having solemnly resolved to constitute India into a SOVEREIGN, !\"\n",
    "c = \"SOCIALIST, SECULAR, DEMOCRATIC REPUBLIC\"\n",
    "d = \"and to secure to all its citizens\"\n",
    "print(a)\n",
    "print(\"\\t\",b)\n",
    "print(\"\\t\\t\",c)\n",
    "print(\"\\t\\t\\t\",d)"
   ]
  },
  {
   "cell_type": "code",
   "execution_count": null,
   "metadata": {},
   "outputs": [],
   "source": []
  },
  {
   "cell_type": "code",
   "execution_count": null,
   "metadata": {},
   "outputs": [],
   "source": []
  }
 ],
 "metadata": {
  "kernelspec": {
   "display_name": "Python 3",
   "language": "python",
   "name": "python3"
  },
  "language_info": {
   "codemirror_mode": {
    "name": "ipython",
    "version": 3
   },
   "file_extension": ".py",
   "mimetype": "text/x-python",
   "name": "python",
   "nbconvert_exporter": "python",
   "pygments_lexer": "ipython3",
   "version": "3.7.6"
  }
 },
 "nbformat": 4,
 "nbformat_minor": 4
}
